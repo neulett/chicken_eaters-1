{
    "cells": [
        {
            "cell_type": "code",
            "execution_count": 1,
            "metadata": {},
            "outputs": [],
            "source": [
                "from pathlib import Path\n",
                "import sys\n",
                "\n",
                "import torch\n",
                "import torch.nn as nn\n",
                "import IPython.display as ipd\n",
                "import matplotlib.pyplot as plt\n",
                "import librosa\n",
                "import librosa.display\n",
                "import numpy as np\n",
                "import scipy\n",
                "import openvino as ov\n",
                "from flask import Flask, render_template\n",
                "# Fetch `notebook_utils` module\n",
                "import urllib.request\n",
                "urllib.request.urlretrieve(\n",
                "    url='https://raw.githubusercontent.com/openvinotoolkit/openvino_notebooks/main/notebooks/utils/notebook_utils.py',\n",
                "    filename='notebook_utils.py'\n",
                ")\n",
                "from notebook_utils import download_file"
            ]
        },
        {
            "cell_type": "code",
            "execution_count": 2,
            "metadata": {},
            "outputs": [],
            "source": [
                "app = Flask(__name__)   # web deploy code\n",
                "\n",
                "@app.route('/')\n",
                "def index():\n",
                "    return render_template('./index.html')"
            ]
        },
        {
            "cell_type": "code",
            "execution_count": 3,
            "metadata": {},
            "outputs": [
                {
                    "name": "stdout",
                    "output_type": "stream",
                    "text": [
                        " * Serving Flask app '__main__'\n",
                        " * Debug mode: off\n"
                    ]
                },
                {
                    "name": "stderr",
                    "output_type": "stream",
                    "text": [
                        "WARNING: This is a development server. Do not use it in a production deployment. Use a production WSGI server instead.\n",
                        " * Running on http://127.0.0.1:5000\n",
                        "Press CTRL+C to quit\n",
                        "127.0.0.1 - - [24/Jan/2024 14:41:36] \"GET / HTTP/1.1\" 200 -\n",
                        "127.0.0.1 - - [24/Jan/2024 14:41:36] \"GET /css/styles.css HTTP/1.1\" 404 -\n",
                        "127.0.0.1 - - [24/Jan/2024 14:41:36] \"GET /js/scripts.js HTTP/1.1\" 404 -\n",
                        "127.0.0.1 - - [24/Jan/2024 14:41:36] \"GET /assets/favicon.ico HTTP/1.1\" 404 -\n"
                    ]
                }
            ],
            "source": [
                "if __name__ == '__main__':\n",
                "    app.run()"
            ]
        },
        {
            "cell_type": "code",
            "execution_count": null,
            "metadata": {},
            "outputs": [],
            "source": []
        }
    ],
    "metadata": {
        "kernelspec": {
            "display_name": "Python 3",
            "language": "python",
            "name": "python3"
        },
        "language_info": {
            "codemirror_mode": {
                "name": "ipython",
                "version": 3
            },
            "file_extension": ".py",
            "mimetype": "text/x-python",
            "name": "python",
            "nbconvert_exporter": "python",
            "pygments_lexer": "ipython3",
            "version": "3.11.7"
        }
    },
    "nbformat": 4,
    "nbformat_minor": 2
}
